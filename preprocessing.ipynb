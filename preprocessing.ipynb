{
 "cells": [
  {
   "cell_type": "markdown",
   "metadata": {},
   "source": [
    "# Load Image\n",
    "OmniGlot Dataset\n",
    "- https://github.com/brendenlake/omniglot"
   ]
  },
  {
   "cell_type": "code",
   "execution_count": 17,
   "metadata": {},
   "outputs": [],
   "source": [
    "import os\n",
    "import numpy as np\n",
    "import pandas\n",
    "import matplotlib.pyplot as plt"
   ]
  },
  {
   "cell_type": "code",
   "execution_count": 2,
   "metadata": {},
   "outputs": [],
   "source": [
    "img_dir = 'images_background_small'\n",
    "stroke_dir = 'strokes_background_small'\n",
    "nreps = 20 # number of renditions for each character\n",
    "nalpha = 5 # number of alphabets to show"
   ]
  },
  {
   "cell_type": "code",
   "execution_count": 44,
   "metadata": {},
   "outputs": [],
   "source": [
    "def getImageList(root_dir):\n",
    "    image_files = []\n",
    "    for i in range(1, 3):\n",
    "        path = \"./data/\" + img_dir + str(i)\n",
    "        file_list = os.listdir(path)\n",
    "#         print (\"file_list: {}\".format(file_list))\n",
    "\n",
    "        for file in file_list:\n",
    "            char_path = path + \"/\" + file\n",
    "            char_list = os.listdir(char_path)\n",
    "#             print (\"char_list: {}\".format(char_list))\n",
    "\n",
    "            for char_file in char_list:\n",
    "                image_path = char_path + \"/\" + char_file\n",
    "                image_list = os.listdir(image_path)\n",
    "#                 print (\"image_list: {}\".format(image_list))\n",
    "\n",
    "                for image_file in image_list:\n",
    "                    image_files.append(image_path + \"/\" + image_file)\n",
    "#         print (\"image_files: {}\".format(image_files))\n",
    "        return image_files"
   ]
  },
  {
   "cell_type": "code",
   "execution_count": 47,
   "metadata": {},
   "outputs": [],
   "source": [
    "img_bg_list = getImageList(img_dir)"
   ]
  },
  {
   "cell_type": "code",
   "execution_count": 46,
   "metadata": {},
   "outputs": [],
   "source": [
    "stk_bg_list = getImageList(stroke_dir)"
   ]
  },
  {
   "cell_type": "code",
   "execution_count": 51,
   "metadata": {},
   "outputs": [
    {
     "data": {
      "text/plain": [
       "<matplotlib.image.AxesImage at 0x2a807412648>"
      ]
     },
     "execution_count": 51,
     "metadata": {},
     "output_type": "execute_result"
    },
    {
     "data": {
      "image/png": "[encoded data removed]",
      "text/plain": [
       "<Figure size 432x288 with 1 Axes>"
      ]
     },
     "metadata": {
      "needs_background": "light"
     },
     "output_type": "display_data"
    }
   ],
   "source": [
    "img = plt.imread(img_bg_list[10])\n",
    "img_arr = np.array(img, bool)\n",
    "plt.imshow(img_arr, cmap=\"gray\")"
   ]
  },
  {
   "cell_type": "code",
   "execution_count": 50,
   "metadata": {},
   "outputs": [
    {
     "data": {
      "text/plain": [
       "<matplotlib.image.AxesImage at 0x2a8073aa908>"
      ]
     },
     "execution_count": 50,
     "metadata": {},
     "output_type": "execute_result"
    },
    {
     "data": {
      "image/png": "[encoded data removed]",
      "text/plain": [
       "<Figure size 432x288 with 1 Axes>"
      ]
     },
     "metadata": {
      "needs_background": "light"
     },
     "output_type": "display_data"
    }
   ],
   "source": [
    "stk = plt.imread(stk_bg_list[10])\n",
    "stk_arr = np.array(stk, bool)\n",
    "plt.imshow(stk_arr, cmap=\"gray\")"
   ]
  },
  {
   "cell_type": "code",
   "execution_count": 52,
   "metadata": {},
   "outputs": [],
   "source": [
    "def read_images(image_files):\n",
    "    images = []\n",
    "    for image_file in image_files:\n",
    "        images.append(plt.imread(image_file))\n",
    "    return images"
   ]
  },
  {
   "cell_type": "code",
   "execution_count": 53,
   "metadata": {},
   "outputs": [],
   "source": [
    "images = read_images(image_files)"
   ]
  },
  {
   "cell_type": "code",
   "execution_count": 9,
   "metadata": {},
   "outputs": [
    {
     "data": {
      "text/plain": [
       "3120"
      ]
     },
     "execution_count": 9,
     "metadata": {},
     "output_type": "execute_result"
    }
   ],
   "source": [
    "len(images)"
   ]
  },
  {
   "cell_type": "code",
   "execution_count": null,
   "metadata": {},
   "outputs": [],
   "source": []
  }
 ],
 "metadata": {
  "kernelspec": {
   "display_name": "Python 3",
   "language": "python",
   "name": "python3"
  },
  "language_info": {
   "codemirror_mode": {
    "name": "ipython",
    "version": 3
   },
   "file_extension": ".py",
   "mimetype": "text/x-python",
   "name": "python",
   "nbconvert_exporter": "python",
   "pygments_lexer": "ipython3",
   "version": "3.7.6"
  }
 },
 "nbformat": 4,
 "nbformat_minor": 4
}
